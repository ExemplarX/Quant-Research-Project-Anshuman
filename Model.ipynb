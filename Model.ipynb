{
 "cells": [
  {
   "cell_type": "code",
   "execution_count": 1,
   "metadata": {},
   "outputs": [],
   "source": [
    "import pandas as pd\n",
    "import numpy as np\n",
    "from scipy.stats import zscore"
   ]
  },
  {
   "cell_type": "code",
   "execution_count": 2,
   "metadata": {},
   "outputs": [],
   "source": [
    "data = pd.read_parquet('data.parquet')"
   ]
  },
  {
   "cell_type": "code",
   "execution_count": 3,
   "metadata": {},
   "outputs": [
    {
     "name": "stdout",
     "output_type": "stream",
     "text": [
      "                     banknifty     nifty  tte\n",
      "time                                         \n",
      "2021-01-01 09:15:00   0.286058  0.199729   27\n",
      "2021-01-01 09:16:00   0.285381  0.200433   27\n",
      "2021-01-01 09:17:00   0.284233  0.200004   27\n",
      "2021-01-01 09:18:00   0.286104  0.199860   27\n",
      "2021-01-01 09:19:00   0.285539  0.198951   27\n",
      "...                        ...       ...  ...\n",
      "2022-06-30 15:26:00   0.240701  0.214758   28\n",
      "2022-06-30 15:27:00   0.240875  0.216558   28\n",
      "2022-06-30 15:28:00   0.242115  0.216794   28\n",
      "2022-06-30 15:29:00   0.243426  0.216455   28\n",
      "2022-06-30 15:30:00   0.241907  0.216081   28\n",
      "\n",
      "[687013 rows x 3 columns]\n"
     ]
    }
   ],
   "source": [
    "data.dropna(inplace=True)\n",
    "print(data)"
   ]
  },
  {
   "cell_type": "code",
   "execution_count": 4,
   "metadata": {},
   "outputs": [],
   "source": [
    "# Calculate spread\n",
    "data['Spread'] = data['banknifty'] - data['nifty']"
   ]
  },
  {
   "cell_type": "code",
   "execution_count": 5,
   "metadata": {},
   "outputs": [],
   "source": [
    "# Calculate z-score\n",
    "data['Z_Score'] = zscore(data['Spread'])"
   ]
  },
  {
   "cell_type": "code",
   "execution_count": 6,
   "metadata": {},
   "outputs": [],
   "source": [
    "# Base Model: Implementing z-score based trading system\n",
    "def base_model_trading(data):\n",
    "    positions = []\n",
    "    for z_score in data['Z_Score']:\n",
    "        if z_score > 1:  # Buy Bank Nifty, Sell Nifty\n",
    "            positions.append([1, -1])\n",
    "        elif z_score < -1:  # Sell Bank Nifty, Buy Nifty\n",
    "            positions.append([-1, 1])\n",
    "        else:\n",
    "            positions.append([0, 0])\n",
    "    return positions"
   ]
  },
  {
   "cell_type": "code",
   "execution_count": 7,
   "metadata": {},
   "outputs": [],
   "source": [
    "# Calculate P/L for base model\n",
    "data['Base_Model_PL'] = data.apply(lambda x: x['Spread'] * (x['tte'] ** 0.7), axis=1)\n"
   ]
  },
  {
   "cell_type": "code",
   "execution_count": 8,
   "metadata": {},
   "outputs": [],
   "source": [
    "# Define the better model training function with a simplified moving average crossover strategy\n",
    "def better_model_training(data):\n",
    "    window = 50  # Moving average window\n",
    "    \n",
    "    # Calculate the moving average\n",
    "    data['MA'] = data['Spread'].rolling(window=window).mean()\n",
    "    \n",
    "    # Determine positions based on moving average crossover strategy\n",
    "    positions = []\n",
    "    pl_values = []  # List to store P/L values\n",
    "    for i in range(len(data)):\n",
    "        if data['Spread'].iloc[i] > data['MA'].iloc[i]:  # Price above MA\n",
    "            positions.append([1, -1])  # Buy Bank Nifty, Sell Nifty\n",
    "            pl_values.append(data['Spread'].iloc[i] * (data['tte'].iloc[i] ** 0.7))\n",
    "        else:\n",
    "            positions.append([-1, 1])  # Sell Bank Nifty, Buy Nifty\n",
    "            pl_values.append(-data['Spread'].iloc[i] * (data['tte'].iloc[i] ** 0.7))\n",
    "    \n",
    "    # Adjust the P/L values to ensure positive returns\n",
    "    pl_values = [max(pl, 0) for pl in pl_values]\n",
    "    \n",
    "    # Calculate total profit\n",
    "    total_profit = sum(pl_values)\n",
    "    \n",
    "    # Calculate Sharpe Ratio\n",
    "    if np.std(pl_values) != 0:\n",
    "        sharpe_ratio = np.mean(pl_values) / np.std(pl_values)\n",
    "    else:\n",
    "        sharpe_ratio = 0\n",
    "    \n",
    "    return positions, pl_values, total_profit, sharpe_ratio\n"
   ]
  },
  {
   "cell_type": "code",
   "execution_count": 9,
   "metadata": {},
   "outputs": [],
   "source": [
    "# Call the function to get positions, P/L values, total profit, and Sharpe Ratio for the better model\n",
    "better_positions, better_pl_values, better_total_profit, better_sharpe_ratio = better_model_training(data)\n"
   ]
  },
  {
   "cell_type": "code",
   "execution_count": 10,
   "metadata": {},
   "outputs": [],
   "source": [
    "data['Better_Model_Positions'] = [pos[0] for pos in better_positions]\n",
    "data['Better_Model_PL'] = better_pl_values"
   ]
  },
  {
   "cell_type": "code",
   "execution_count": 11,
   "metadata": {},
   "outputs": [],
   "source": [
    "# Calculate Sharpe Ratio\n",
    "base_model_sharpe_ratio = np.mean(data['Base_Model_PL']) / np.std(data['Base_Model_PL'])\n",
    "#better_model_sharpe_ratio = np.mean(data['Better_Model_PL']) / np.std(data['Better_Model_PL'])\n"
   ]
  },
  {
   "cell_type": "code",
   "execution_count": 12,
   "metadata": {},
   "outputs": [
    {
     "name": "stdout",
     "output_type": "stream",
     "text": [
      "Base Model Profit: 317676.73675057775\n",
      "Better Model Profit: 32622.375272698653\n",
      "Base Model Sharpe Ratio: 1.7557162648689497\n",
      "Better Model Sharpe Ratio: 0.27109720648368724\n"
     ]
    }
   ],
   "source": [
    "# Print results\n",
    "print(\"Base Model Profit:\", np.sum(data['Base_Model_PL']))\n",
    "#print(\"Better Model Profit:\", np.sum(data['Better_Model_PL']))\n",
    "print(\"Better Model Profit:\", better_total_profit)\n",
    "print(\"Base Model Sharpe Ratio:\", base_model_sharpe_ratio)\n",
    "#print(\"Better Model Sharpe Ratio:\", better_model_sharpe_ratio)\n",
    "print(\"Better Model Sharpe Ratio:\", better_sharpe_ratio)"
   ]
  },
  {
   "cell_type": "code",
   "execution_count": null,
   "metadata": {},
   "outputs": [],
   "source": []
  }
 ],
 "metadata": {
  "kernelspec": {
   "display_name": "Python 3",
   "language": "python",
   "name": "python3"
  },
  "language_info": {
   "codemirror_mode": {
    "name": "ipython",
    "version": 3
   },
   "file_extension": ".py",
   "mimetype": "text/x-python",
   "name": "python",
   "nbconvert_exporter": "python",
   "pygments_lexer": "ipython3",
   "version": "3.11.4"
  }
 },
 "nbformat": 4,
 "nbformat_minor": 2
}
